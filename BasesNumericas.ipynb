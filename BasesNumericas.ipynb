{
 "cells": [
  {
   "cell_type": "markdown",
   "id": "7b8689f9",
   "metadata": {},
   "source": [
    "##### Notação Posicional\n",
    "É a notação na qual dígitos são arranjados um\n",
    "ao lado do outro com pesos crescentes a esquerda.\n",
    "\n",
    "Podemos escrever qualquer número inteiro da seguinte forma:"
   ]
  },
  {
   "cell_type": "code",
   "execution_count": 5,
   "id": "382af0b7",
   "metadata": {},
   "outputs": [
    {
     "data": {
      "text/plain": [
       "6782"
      ]
     },
     "execution_count": 5,
     "metadata": {},
     "output_type": "execute_result"
    }
   ],
   "source": [
    "## Número 6782\n",
    "6 * 1000 + 7*100 + 8*10 + 2*1"
   ]
  },
  {
   "cell_type": "markdown",
   "id": "f2fdc416",
   "metadata": {},
   "source": [
    "Ou explicitando a base númerica:"
   ]
  },
  {
   "cell_type": "code",
   "execution_count": 7,
   "id": "697bb950",
   "metadata": {},
   "outputs": [
    {
     "data": {
      "text/plain": [
       "6782"
      ]
     },
     "execution_count": 7,
     "metadata": {},
     "output_type": "execute_result"
    }
   ],
   "source": [
    "6 * (10**3) + 7 * (10**2) + 8 * (10**1) + 2 * (10**0)\n"
   ]
  },
  {
   "cell_type": "markdown",
   "id": "5ea7aafa",
   "metadata": {},
   "source": [
    "Podemos extender o conceito para números fracionários: "
   ]
  },
  {
   "cell_type": "code",
   "execution_count": 3,
   "id": "fc712724",
   "metadata": {},
   "outputs": [
    {
     "data": {
      "text/plain": [
       "782.345"
      ]
     },
     "execution_count": 3,
     "metadata": {},
     "output_type": "execute_result"
    }
   ],
   "source": [
    "## Número 782,345\n",
    "round(7*(10**2)+8*(10**1)+2*(10**0)+  3 * (10 ** -1) + 4 * (10 ** - 2) + 5 * (10 ** -3),5)"
   ]
  },
  {
   "cell_type": "markdown",
   "id": "9293861d",
   "metadata": {},
   "source": [
    "De outra forma: 7\\*10²+ 8\\*10¹ + 2\\*10⁰ + 3 \\* (1/10¹) + 4 \\* (1/10²) + 5 \\* (1/10³)"
   ]
  },
  {
   "cell_type": "code",
   "execution_count": 4,
   "id": "da1276e7",
   "metadata": {},
   "outputs": [
    {
     "data": {
      "text/plain": [
       "782.345"
      ]
     },
     "execution_count": 4,
     "metadata": {},
     "output_type": "execute_result"
    }
   ],
   "source": [
    "## Número 782,345\n",
    "round(7*(10**2)+8*(10**1)+2*(10**0)+ 3 * ( 1 / (10**1)) + 4 * (1/(10 **2)) + 5 * (1/(10 ** 3)),5)"
   ]
  },
  {
   "cell_type": "markdown",
   "id": "04e69a4a",
   "metadata": {},
   "source": [
    "A notação posicional pode ser extendido para qualquer base numérica."
   ]
  },
  {
   "cell_type": "markdown",
   "id": "a7f73afc",
   "metadata": {},
   "source": [
    "#### Representação em uma base b:\n",
    "\n",
    "Seja a base numérica *b* > 1. Considere também o conjunto de dígitos da base *b*, tal que  D = {0, 1, 2, . . . , b−1}. \n",
    "\n",
    "Um número *x* qualquer com parte inteira e fracionária pode ser expresso na base *b*, por meio na notação posicional:\n",
    "        \n",
    "        d(n−1) d(n−2) · · · d(1) d(0) . d(−1) d(−2) · · · d(−m)\n",
    "                \n",
    "onde *n* é o número de dígitos em sua parte inteira, *m* é o número de dígitos em sua parte fracionária, e d(i) ∈ D, ∀i. \n",
    "\n",
    "O dígito d(n−1) é denominado dígito mais significativo e o dígito d(−m) é denominado o dígito menos significativo. Quando m = 0, o número possue somente a parte inteira e o dígito menos significativo é o d0.\n",
    "\n",
    "Na notação polinomial, omitindo-se o sinal das operações de multiplicação, esse número é  expresso como\n",
    "\n",
    "d(n−1)\\* b(n−1) + d(n−2) \\* b(n−2) + · · · + d(1)\\* b(1) + d(0)\\*b(0) + d(−1)\\*b(−1) + d(−2)\\*b(−2) + · · · + d(−m)\\* b(−m)\n"
   ]
  },
  {
   "cell_type": "markdown",
   "id": "b8c14ba4",
   "metadata": {},
   "source": [
    "##### Exemplos Bases:"
   ]
  },
  {
   "cell_type": "markdown",
   "id": "a46f5461",
   "metadata": {},
   "source": [
    "###### Base Binária - D={0,1}\n",
    "\n",
    "Valor= 1011"
   ]
  },
  {
   "cell_type": "code",
   "execution_count": 5,
   "id": "6e57cbc7",
   "metadata": {},
   "outputs": [
    {
     "data": {
      "text/plain": [
       "11"
      ]
     },
     "execution_count": 5,
     "metadata": {},
     "output_type": "execute_result"
    }
   ],
   "source": [
    "1 * (2**3) + 0 * (2**2) + 1 * (2**1) + 1 * (2**0)"
   ]
  },
  {
   "cell_type": "markdown",
   "id": "c099b830",
   "metadata": {},
   "source": [
    "Valor= 1011.011"
   ]
  },
  {
   "cell_type": "code",
   "execution_count": 10,
   "id": "1b7350bb",
   "metadata": {},
   "outputs": [
    {
     "data": {
      "text/plain": [
       "11.375"
      ]
     },
     "execution_count": 10,
     "metadata": {},
     "output_type": "execute_result"
    }
   ],
   "source": [
    "1 * (2**3) + 0 * (2**2) + 1 * (2**1) + 1 * (2**0)+ 0 *(2**-1)+1*(2**-2)+1*(2**-3)"
   ]
  },
  {
   "cell_type": "markdown",
   "id": "c69fbb92",
   "metadata": {},
   "source": [
    "###### Base Octal - D={0,1,2,3,4,5,6,7}\n",
    "\n",
    "Valor= 4613"
   ]
  },
  {
   "cell_type": "code",
   "execution_count": 6,
   "id": "8aefb80e",
   "metadata": {},
   "outputs": [
    {
     "data": {
      "text/plain": [
       "2443"
      ]
     },
     "execution_count": 6,
     "metadata": {},
     "output_type": "execute_result"
    }
   ],
   "source": [
    "4 * (8**3) + 6 * (8**2) + 1 * (8**1) + 3 * (8**0)"
   ]
  },
  {
   "cell_type": "markdown",
   "id": "bf0fe0bb",
   "metadata": {},
   "source": [
    "Valor= 4613.6731"
   ]
  },
  {
   "cell_type": "code",
   "execution_count": 7,
   "id": "42dccabe",
   "metadata": {},
   "outputs": [
    {
     "data": {
      "text/plain": [
       "2443.865478515625"
      ]
     },
     "execution_count": 7,
     "metadata": {},
     "output_type": "execute_result"
    }
   ],
   "source": [
    "4 * (8**3) + 6 * (8**2) + 1 * (8**1) + 3 * (8**0)+ 6 *(8**-1)+7*(8**-2)+3*(8**-3)+1*(8**-4)"
   ]
  },
  {
   "cell_type": "markdown",
   "id": "5d790782",
   "metadata": {},
   "source": [
    "###### Base Hexadecimal - D={0,1,2,3,4,5,6,7,8,9,A,B,C,D,E,F}\n",
    "\n",
    "Valor= AFC8"
   ]
  },
  {
   "cell_type": "code",
   "execution_count": 8,
   "id": "399f8c65",
   "metadata": {},
   "outputs": [
    {
     "data": {
      "text/plain": [
       "45000"
      ]
     },
     "execution_count": 8,
     "metadata": {},
     "output_type": "execute_result"
    }
   ],
   "source": [
    "10 * (16**3) + 15 * (16**2) + 12 * (16**1) + 8 * (16**0)"
   ]
  },
  {
   "cell_type": "markdown",
   "id": "567d51e9",
   "metadata": {},
   "source": [
    "Valor= AFC8.7FA"
   ]
  },
  {
   "cell_type": "code",
   "execution_count": 9,
   "id": "cbfac225",
   "metadata": {},
   "outputs": [
    {
     "data": {
      "text/plain": [
       "45000.49853515625"
      ]
     },
     "execution_count": 9,
     "metadata": {},
     "output_type": "execute_result"
    }
   ],
   "source": [
    "10 * (16**3) + 15 * (16**2) + 12 * (16**1) + 8 * (16**0)+ 7 *(16**-1)+15*(16**-2)+10*(16**-3)"
   ]
  },
  {
   "cell_type": "markdown",
   "id": "26023af5",
   "metadata": {},
   "source": [
    "##### Sinal-magnitude: \n",
    "\n",
    "O bit mais significativo é utilizado para indicar o **sinal**, e os demais bits\n",
    "representam a **magnitude** do número. O bit de sinal igual a **0** significa que o valor é **positivo** e o bit de sinal igual a **1** significa que o valor é **negativo**. Assim, se consideramos n = 4 bits, a representação será:\n",
    "\n",
    "- 0110 - 6 positivo\n",
    "- 1110 - 6 negativo\n",
    "\n",
    "Uma situação indesejada:\n",
    "\n",
    "- 0000 - 0 positivo\n",
    "- 1000 - 0 negativo\n",
    "\n",
    "Nesse padrão de representação temos duas possibilidades para o número 0.\n"
   ]
  },
  {
   "cell_type": "markdown",
   "id": "33b29ef9",
   "metadata": {},
   "source": [
    "[Tabela4bits](/view/AulasIC/tabela4bits.png)"
   ]
  },
  {
   "cell_type": "code",
   "execution_count": 10,
   "id": "7a8d7ad3",
   "metadata": {},
   "outputs": [],
   "source": [
    "def conv_baseDecimal(N: str, b: int) -> float:\n",
    "  S = {e:i for i, e in enumerate(\"0123456789ABCDEF\")}\n",
    "  N = N.upper()\n",
    "  if any([e not in list(S.keys()) + [\".\"] for e in N]):\n",
    "    raise ValueError(\"O valor N é inválido!\")\n",
    "  Ns = N.split(\".\")\n",
    "  if len(Ns) == 1:\n",
    "    n = len(Ns[0])\n",
    "    m = 0\n",
    "  elif len(Ns) == 2:\n",
    "    n = len(Ns[0])\n",
    "    m = len(Ns[1])\n",
    "  else:\n",
    "    raise ValueError(\"O valor N é inválido!\")\n",
    "  N = \"\".join(Ns)[::-1]\n",
    "  if not all([S[d] <= b - 1 for d in N]):\n",
    "    raise ValueError(\"O valor N é inválido!\")\n",
    "  return sum([S[d]*b**k for d, k in zip(N, range(-m, n))])"
   ]
  },
  {
   "cell_type": "code",
   "execution_count": 2,
   "id": "c5a3af04",
   "metadata": {},
   "outputs": [
    {
     "name": "stdout",
     "output_type": "stream",
     "text": [
      "11.375\n",
      "2443.865478515625\n",
      "45000.49853515625\n"
     ]
    }
   ],
   "source": [
    "print(conv_baseDecimal('1011.011', 2))\n",
    "print(conv_baseDecimal('4613.6731', 8))\n",
    "print(conv_baseDecimal('AFC8.7FA', 16))"
   ]
  },
  {
   "cell_type": "code",
   "execution_count": 12,
   "id": "213e3668",
   "metadata": {},
   "outputs": [
    {
     "name": "stdout",
     "output_type": "stream",
     "text": [
      "0b1111111111111100\n",
      "0o177774\n",
      "0xfffc\n"
     ]
    }
   ],
   "source": [
    "print(bin(65532))\n",
    "print(oct(65532))\n",
    "print(hex(65532))"
   ]
  },
  {
   "cell_type": "code",
   "execution_count": 13,
   "id": "1bafd30f",
   "metadata": {},
   "outputs": [],
   "source": [
    "def conv_decimalBase(N: float, b: int, prec: int=32) -> str:\n",
    "  S = {i:e for i, e in enumerate('0123456789ABCDEF')}\n",
    "  i, f = divmod(N, 1)\n",
    "  saida = \"0\" if not i else \"\"\n",
    "  while(i):\n",
    "    i, r = divmod(i, b)\n",
    "    saida += S[r]\n",
    "  saida = saida[::-1] + \".\"\n",
    "  while(f and len(saida) <= prec):\n",
    "    f = round(f, 10)\n",
    "    i, f = divmod(f*b, 1)\n",
    "    saida += S[int(i)]\n",
    "  return saida"
   ]
  },
  {
   "cell_type": "code",
   "execution_count": 14,
   "id": "d82815a1",
   "metadata": {},
   "outputs": [
    {
     "name": "stdout",
     "output_type": "stream",
     "text": [
      "1011.011\n"
     ]
    }
   ],
   "source": [
    "print(conv_decimalBase(11.375, 2))"
   ]
  },
  {
   "cell_type": "code",
   "execution_count": 15,
   "id": "5c04d7be",
   "metadata": {},
   "outputs": [
    {
     "name": "stdout",
     "output_type": "stream",
     "text": [
      "4613.6730777777762203100230502044\n"
     ]
    }
   ],
   "source": [
    "##print(round(float(conv_decimalBase(2443.865478515625, 8)),4))\n",
    "print(conv_decimalBase(2443.865478515625, 8))"
   ]
  },
  {
   "cell_type": "code",
   "execution_count": 16,
   "id": "7a276554",
   "metadata": {},
   "outputs": [
    {
     "name": "stdout",
     "output_type": "stream",
     "text": [
      "AFC8.7F9FFFFFC906404C50848A9052A3\n"
     ]
    }
   ],
   "source": [
    "print(conv_decimalBase(45000.49853515625, 16))"
   ]
  },
  {
   "cell_type": "markdown",
   "id": "c74e01f7",
   "metadata": {},
   "source": [
    "##### Representação IEEE 754\n",
    "\n",
    "A representação IEEE 754 para números reais possui uma “anatomia” básica. De uma forma geral, ela é dividia em **3** partes indispensáveis para determinar sua configuração. São elas: **sinal, expoente e predicando (ou mantissa)**."
   ]
  },
  {
   "cell_type": "markdown",
   "id": "e9caf43e",
   "metadata": {},
   "source": [
    "[Padrão IEEE 754](/view/AulasIC/padraoIEEE754.png)"
   ]
  },
  {
   "cell_type": "markdown",
   "id": "4ab57040",
   "metadata": {},
   "source": [
    "Antes de falar das partes, é importante falar sobre a **precisão**. A precisão está ligada diretamente com a **quantidade de bits** que será utilizada pra representar algum valor. Isso interfere diretamente na quantidade de bits das partes relativas ao **expoente e ao predicando**. A quantidade de dígitos para o sinal sempre será 1, lembrando que o **expoente** também tem o bit de sinal:"
   ]
  },
  {
   "cell_type": "markdown",
   "id": "771d051e",
   "metadata": {},
   "source": [
    "[Padrão Precisão](/view/AulasIC/precisao.png)"
   ]
  },
  {
   "cell_type": "code",
   "execution_count": 21,
   "id": "41891309",
   "metadata": {},
   "outputs": [],
   "source": [
    "def ieee754_realBinario(N: float, n: int=32) -> str:\n",
    "  K = {16: 10, 32: 23, 64: 52, 128: 112, 256: 236}\n",
    "  if n not in K:\n",
    "      raise ValueError('Valor de precisao inválido!')\n",
    "  k = K[n]\n",
    "  nq = n - k - 1\n",
    "  s = f'{int(N < 0)}'\n",
    "  Nb = conv_decimalBase(abs(N), 2, n)\n",
    "  a, b = Nb.find('1'), Nb.find('.')\n",
    "  e = b - a if a > b else b - a - 1\n",
    "  v = int(2**nq/2 - 1)\n",
    "  q = conv_decimalBase(v + e, 2, nq)\n",
    "  q = q[:-1].rjust(nq, '0')\n",
    "  Nb = Nb.replace('.', '')\n",
    "  p = Nb[a+1:a+k+1].ljust(k, '0')\n",
    "  ##p = Nb[b+1:a+k+1].ljust(k, '0') ##alterado para resolver -0.75 \n",
    "  return s + q + p"
   ]
  },
  {
   "cell_type": "code",
   "execution_count": 22,
   "id": "90db2e88",
   "metadata": {},
   "outputs": [
    {
     "name": "stdout",
     "output_type": "stream",
     "text": [
      "01000011110100101100011110101110\n"
     ]
    }
   ],
   "source": [
    "print(ieee754_realBinario(421.56,32))"
   ]
  },
  {
   "cell_type": "code",
   "execution_count": null,
   "id": "32ed990f",
   "metadata": {},
   "outputs": [],
   "source": [
    "01000011110100101100011110101110"
   ]
  },
  {
   "cell_type": "code",
   "execution_count": 68,
   "id": "5ea0a1a5",
   "metadata": {},
   "outputs": [
    {
     "name": "stdout",
     "output_type": "stream",
     "text": [
      "10111111010000000000000000000000\n"
     ]
    }
   ],
   "source": [
    "print(ieee754_realBinario(-0.75,32))"
   ]
  },
  {
   "cell_type": "code",
   "execution_count": 38,
   "id": "e4b6b8cb",
   "metadata": {},
   "outputs": [],
   "source": [
    "def ieee754_binarioReal(N: str) -> float:\n",
    "  k = {16: 10, 32: 23, 64: 52, 128: 112, 256: 236}\n",
    "  n = len(N)\n",
    "  if n not in k:\n",
    "      raise ValueError('Representação IEEE 754 inválida!')\n",
    "  k = k[n]\n",
    "  nq = n - k - 1\n",
    "  v = int(2**(nq)/2 - 1)\n",
    "  s = eval(N[0])\n",
    "  q = N[1:nq+1]\n",
    "  e = conv_baseDecimal(q, 2) - v\n",
    "  p = '0.' + N[-k:]\n",
    "  p = conv_baseDecimal(p, 2)\n",
    "  return (-1)**s*(1 + p)*2**e"
   ]
  },
  {
   "cell_type": "code",
   "execution_count": 37,
   "id": "14b7a043",
   "metadata": {},
   "outputs": [
    {
     "name": "stdout",
     "output_type": "stream",
     "text": [
      "5.361819057829446e-31\n"
     ]
    }
   ],
   "source": [
    "  print(ieee754_binarioReal(\"00001101001011100000000001000000\"))"
   ]
  },
  {
   "cell_type": "code",
   "execution_count": 38,
   "id": "1dacedb3",
   "metadata": {},
   "outputs": [
    {
     "name": "stdout",
     "output_type": "stream",
     "text": [
      "421.55999755859375\n"
     ]
    }
   ],
   "source": [
    "print(ieee754_binarioReal(\"01000011110100101100011110101110\"))"
   ]
  },
  {
   "cell_type": "code",
   "execution_count": 40,
   "id": "a337c9f8",
   "metadata": {},
   "outputs": [
    {
     "name": "stdout",
     "output_type": "stream",
     "text": [
      "-174.10000610351562\n"
     ]
    }
   ],
   "source": [
    "print(ieee754_binarioReal(\"11000011001011100001100110011010\"))"
   ]
  },
  {
   "cell_type": "code",
   "execution_count": 67,
   "id": "7b48fa40",
   "metadata": {},
   "outputs": [
    {
     "name": "stdout",
     "output_type": "stream",
     "text": [
      "-0.75\n"
     ]
    }
   ],
   "source": [
    "print(ieee754_binarioReal(\"10111111010000000000000000000000\"))"
   ]
  },
  {
   "cell_type": "code",
   "execution_count": 1,
   "id": "285bbaa0",
   "metadata": {},
   "outputs": [
    {
     "data": {
      "text/plain": [
       "128"
      ]
     },
     "execution_count": 1,
     "metadata": {},
     "output_type": "execute_result"
    }
   ],
   "source": []
  },
  {
   "cell_type": "code",
   "execution_count": null,
   "id": "f11bcd82",
   "metadata": {},
   "outputs": [],
   "source": []
  }
 ],
 "metadata": {
  "kernelspec": {
   "display_name": "Python 3 (ipykernel)",
   "language": "python",
   "name": "python3"
  },
  "language_info": {
   "codemirror_mode": {
    "name": "ipython",
    "version": 3
   },
   "file_extension": ".py",
   "mimetype": "text/x-python",
   "name": "python",
   "nbconvert_exporter": "python",
   "pygments_lexer": "ipython3",
   "version": "3.11.5"
  }
 },
 "nbformat": 4,
 "nbformat_minor": 5
}
