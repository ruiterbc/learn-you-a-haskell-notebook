{
 "cells": [
  {
   "cell_type": "markdown",
   "id": "7b8689f9",
   "metadata": {},
   "source": [
    "##### Notação Posicional\n",
    "É a notação na qual dígitos são arranjados um\n",
    "ao lado do outro com pesos crescentes a esquerda.\n",
    "\n",
    "Podemos escrever qualquer número inteiro da seguinte forma:"
   ]
  },
  {
   "cell_type": "code",
   "execution_count": 5,
   "id": "382af0b7",
   "metadata": {},
   "outputs": [
    {
     "data": {
      "text/plain": [
       "6782"
      ]
     },
     "execution_count": 5,
     "metadata": {},
     "output_type": "execute_result"
    }
   ],
   "source": [
    "## Número 6782\n",
    "6 * 1000 + 7*100 + 8*10 + 2*1"
   ]
  },
  {
   "cell_type": "markdown",
   "id": "f2fdc416",
   "metadata": {},
   "source": [
    "Ou explicitando a base númerica:"
   ]
  },
  {
   "cell_type": "code",
   "execution_count": 7,
   "id": "697bb950",
   "metadata": {},
   "outputs": [
    {
     "data": {
      "text/plain": [
       "6782"
      ]
     },
     "execution_count": 7,
     "metadata": {},
     "output_type": "execute_result"
    }
   ],
   "source": [
    "6 * (10**3) + 7 * (10**2) + 8 * (10**1) + 2 * (10**0)\n"
   ]
  },
  {
   "cell_type": "markdown",
   "id": "5ea7aafa",
   "metadata": {},
   "source": [
    "Podemos extender o conceito para números fracionários: "
   ]
  },
  {
   "cell_type": "code",
   "execution_count": 4,
   "id": "fc712724",
   "metadata": {},
   "outputs": [
    {
     "data": {
      "text/plain": [
       "782.345"
      ]
     },
     "execution_count": 4,
     "metadata": {},
     "output_type": "execute_result"
    }
   ],
   "source": [
    "## Número 782,345\n",
    "round(7*(10**2)+8*(10**1)+2*(10**0)+  3 * (10 ** -1) + 4 * (10 ** - 2) + 5 * (10 ** -3),5)"
   ]
  },
  {
   "cell_type": "markdown",
   "id": "9293861d",
   "metadata": {},
   "source": [
    "De outra forma: 7\\*10²+ 8\\*10¹ + 2\\*10⁰ + 3 \\* (1/10¹) + 4 \\* (1/10²) + 5 \\* (1/10³)"
   ]
  },
  {
   "cell_type": "code",
   "execution_count": 5,
   "id": "da1276e7",
   "metadata": {},
   "outputs": [
    {
     "data": {
      "text/plain": [
       "782.345"
      ]
     },
     "execution_count": 5,
     "metadata": {},
     "output_type": "execute_result"
    }
   ],
   "source": [
    "## Número 782,345\n",
    "round(7*(10**2)+8*(10**1)+2*(10**0)+ 3 * ( 1 / (10**1)) + 4 * (1/(10 **2)) + 5 * (1/(10 ** 3)),5)"
   ]
  },
  {
   "cell_type": "markdown",
   "id": "04e69a4a",
   "metadata": {},
   "source": [
    "A notação posicional pode ser extendido para qualquer base numérica."
   ]
  },
  {
   "cell_type": "markdown",
   "id": "a7f73afc",
   "metadata": {},
   "source": [
    "#### Representação em uma base b:\n",
    "\n",
    "Seja a base numérica *b* > 1. Considere também o conjunto de dígitos da base *b*, tal que  D = {0, 1, 2, . . . , b−1}. \n",
    "\n",
    "Um número *x* qualquer com parte inteira e fracionária pode ser expresso na base *b*, por meio na notação posicional:\n",
    "        \n",
    "        d(n−1) d(n−2) · · · d(1) d(0) . d(−1) d(−2) · · · d(−m)\n",
    "                \n",
    "onde *n* é o número de dígitos em sua parte inteira, *m* é o número de dígitos em sua parte fracionária, e d(i) ∈ D, ∀i. \n",
    "\n",
    "O dígito d(n−1) é denominado dígito mais significativo e o dígito d(−m) é denominado o dígito menos significativo. Quando m = 0, o número possue somente a parte inteira e o dígito menos significativo é o d0.\n",
    "\n",
    "Na notação polinomial, omitindo-se o sinal das operações de multiplicação, esse número é  expresso como\n",
    "\n",
    "d(n−1)\\* b(n−1) + d(n−2) \\* b(n−2) + · · · + d(1)\\* b(1) + d(0)\\*b(0) + d(−1)\\*b(−1) + d(−2)\\*b(−2) + · · · + d(−m)\\* b(−m)\n"
   ]
  },
  {
   "cell_type": "markdown",
   "id": "b8c14ba4",
   "metadata": {},
   "source": [
    "##### Exemplos Bases:"
   ]
  },
  {
   "cell_type": "markdown",
   "id": "a46f5461",
   "metadata": {},
   "source": [
    "###### Base Binária - D={0,1}\n",
    "\n",
    "Valor= 1011"
   ]
  },
  {
   "cell_type": "code",
   "execution_count": 6,
   "id": "6e57cbc7",
   "metadata": {},
   "outputs": [
    {
     "data": {
      "text/plain": [
       "11"
      ]
     },
     "execution_count": 6,
     "metadata": {},
     "output_type": "execute_result"
    }
   ],
   "source": [
    "1 * (2**3) + 0 * (2**2) + 1 * (2**1) + 1 * (2**0)"
   ]
  },
  {
   "cell_type": "markdown",
   "id": "c099b830",
   "metadata": {},
   "source": [
    "Valor= 1011.011"
   ]
  },
  {
   "cell_type": "code",
   "execution_count": 10,
   "id": "1b7350bb",
   "metadata": {},
   "outputs": [
    {
     "data": {
      "text/plain": [
       "11.375"
      ]
     },
     "execution_count": 10,
     "metadata": {},
     "output_type": "execute_result"
    }
   ],
   "source": [
    "1 * (2**3) + 0 * (2**2) + 1 * (2**1) + 1 * (2**0)+ 0 *(2**-1)+1*(2**-2)+1*(2**-3)"
   ]
  },
  {
   "cell_type": "markdown",
   "id": "c69fbb92",
   "metadata": {},
   "source": [
    "###### Base Octal - D={0,1,2,3,4,5,6,7}\n",
    "\n",
    "Valor= 4613"
   ]
  },
  {
   "cell_type": "code",
   "execution_count": 8,
   "id": "8aefb80e",
   "metadata": {},
   "outputs": [
    {
     "data": {
      "text/plain": [
       "2443"
      ]
     },
     "execution_count": 8,
     "metadata": {},
     "output_type": "execute_result"
    }
   ],
   "source": [
    "4 * (8**3) + 6 * (8**2) + 1 * (8**1) + 3 * (8**0)"
   ]
  },
  {
   "cell_type": "markdown",
   "id": "bf0fe0bb",
   "metadata": {},
   "source": [
    "Valor= 4613.6731"
   ]
  },
  {
   "cell_type": "code",
   "execution_count": 11,
   "id": "42dccabe",
   "metadata": {},
   "outputs": [
    {
     "data": {
      "text/plain": [
       "2443.865966796875"
      ]
     },
     "execution_count": 11,
     "metadata": {},
     "output_type": "execute_result"
    }
   ],
   "source": [
    "4 * (8**3) + 6 * (8**2) + 1 * (8**1) + 3 * (8**0)+ 6 *(8**-1)+7*(8**-2)+3*(8**-3)+3*(8**-4)"
   ]
  },
  {
   "cell_type": "markdown",
   "id": "5d790782",
   "metadata": {},
   "source": [
    "###### Base Hexadecimal - D={0,1,2,3,4,5,6,7,8,9,A,B,C,D,E,F}\n",
    "\n",
    "Valor= AFC8"
   ]
  },
  {
   "cell_type": "code",
   "execution_count": 13,
   "id": "399f8c65",
   "metadata": {},
   "outputs": [
    {
     "data": {
      "text/plain": [
       "45000"
      ]
     },
     "execution_count": 13,
     "metadata": {},
     "output_type": "execute_result"
    }
   ],
   "source": [
    "10 * (16**3) + 15 * (16**2) + 12 * (16**1) + 8 * (16**0)"
   ]
  },
  {
   "cell_type": "markdown",
   "id": "567d51e9",
   "metadata": {},
   "source": [
    "Valor= AFC8.7FA"
   ]
  },
  {
   "cell_type": "code",
   "execution_count": 12,
   "id": "cbfac225",
   "metadata": {},
   "outputs": [
    {
     "data": {
      "text/plain": [
       "45000.4990234375"
      ]
     },
     "execution_count": 12,
     "metadata": {},
     "output_type": "execute_result"
    }
   ],
   "source": [
    "10 * (16**3) + 15 * (16**2) + 12 * (16**1) + 8 * (16**0)+ 7 *(16**-1)+15*(16**-2)+12*(16**-3)"
   ]
  },
  {
   "cell_type": "markdown",
   "id": "26023af5",
   "metadata": {},
   "source": [
    "##### Sinal-magnitude: \n",
    "\n",
    "O bit mais significativo é utilizado para indicar o **sinal**, e os demais bits\n",
    "representam a **magnitude** do número. O bit de sinal igual a **0** significa que o valor é **positivo** e o bit de sinal igual a **1** significa que o valor é **negativo**. Assim, se consideramos n = 4 bits, a representação será:\n",
    "\n",
    "- 0110 - 6 positivo\n",
    "- 1110 - 6 negativo\n",
    "\n",
    "Uma situação indesejada:\n",
    "\n",
    "- 0000 - 0 positivo\n",
    "- 1000 - 0 negativo\n",
    "\n",
    "Nesse padrão de representação temos duas possibilidades para o número 0.\n"
   ]
  },
  {
   "cell_type": "markdown",
   "id": "33b29ef9",
   "metadata": {},
   "source": [
    "[Tabela4bits](/view/AulasIC/tabela4bits.png)"
   ]
  },
  {
   "cell_type": "code",
   "execution_count": null,
   "id": "7a8d7ad3",
   "metadata": {},
   "outputs": [],
   "source": []
  }
 ],
 "metadata": {
  "kernelspec": {
   "display_name": "Python 3 (ipykernel)",
   "language": "python",
   "name": "python3"
  },
  "language_info": {
   "codemirror_mode": {
    "name": "ipython",
    "version": 3
   },
   "file_extension": ".py",
   "mimetype": "text/x-python",
   "name": "python",
   "nbconvert_exporter": "python",
   "pygments_lexer": "ipython3",
   "version": "3.11.5"
  }
 },
 "nbformat": 4,
 "nbformat_minor": 5
}
